{
 "cells": [
  {
   "cell_type": "code",
   "execution_count": 27,
   "id": "4a111261",
   "metadata": {},
   "outputs": [],
   "source": [
    "import csv"
   ]
  },
  {
   "cell_type": "code",
   "execution_count": 28,
   "id": "af1f3747",
   "metadata": {},
   "outputs": [],
   "source": [
    "line_data_csv = []"
   ]
  },
  {
   "cell_type": "code",
   "execution_count": 35,
   "id": "95ef822c",
   "metadata": {},
   "outputs": [],
   "source": [
    "    #Filtrando um possivel redundancia no csv \n",
    "    with open('Projeto_guaraves_bruto.csv', 'r') as dados_csv:\n",
    "        ler = csv.reader(dados_csv)\n",
    "        for linhas_csv in ler:\n",
    "            list_csv = linhas_csv\n",
    "        list_csv = list_csv[5:]\n",
    "\n",
    "    dados_csv.close()"
   ]
  },
  {
   "cell_type": "code",
   "execution_count": 36,
   "id": "7fb9fbaf",
   "metadata": {},
   "outputs": [
    {
     "name": "stdout",
     "output_type": "stream",
     "text": [
      "['-99.8', '25.0', '77', '', '28.2', '27.1', '88', '100', '28.1', '10.0', '53.4', '40.0', '27.6', '85', '2.9']\n"
     ]
    }
   ],
   "source": [
    "print(list_csv)"
   ]
  },
  {
   "cell_type": "code",
   "execution_count": null,
   "id": "b8c03ebb",
   "metadata": {},
   "outputs": [],
   "source": []
  }
 ],
 "metadata": {
  "kernelspec": {
   "display_name": "Python 3 (ipykernel)",
   "language": "python",
   "name": "python3"
  },
  "language_info": {
   "codemirror_mode": {
    "name": "ipython",
    "version": 3
   },
   "file_extension": ".py",
   "mimetype": "text/x-python",
   "name": "python",
   "nbconvert_exporter": "python",
   "pygments_lexer": "ipython3",
   "version": "3.9.7"
  }
 },
 "nbformat": 4,
 "nbformat_minor": 5
}
