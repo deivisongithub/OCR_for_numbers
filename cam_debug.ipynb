{
 "cells": [
  {
   "cell_type": "code",
   "execution_count": 1,
   "id": "014c494f",
   "metadata": {},
   "outputs": [],
   "source": [
    "import numpy as np\n",
    "import cv2\n",
    "import imutils\n",
    "from matplotlib import pyplot as plt\n",
    "import pytesseract\n",
    "import csv\n",
    "import datetime"
   ]
  },
  {
   "cell_type": "code",
   "execution_count": 2,
   "id": "8cc8d5ae",
   "metadata": {},
   "outputs": [],
   "source": [
    "webcam = cv2.VideoCapture(0)\n",
    "\n",
    "if webcam.isOpened():\n",
    "    validacao, frame = webcam.read()\n",
    "    while validacao:\n",
    "        validacao, frame = webcam.read()\n",
    "        cv2.imshow(\"Video da Webcam\", frame)\n",
    "        key = cv2.waitKey(5)\n",
    "        if key == 27: # ESC\n",
    "            break\n",
    "    cv2.imwrite(\"Foto_teste.png\", frame)\n",
    "\n",
    "webcam.release()\n",
    "cv2.destroyAllWindows()"
   ]
  },
  {
   "cell_type": "code",
   "execution_count": 3,
   "id": "20e817d6",
   "metadata": {},
   "outputs": [],
   "source": [
    "# Capturando tela\n",
    "\n",
    "webcam = cv2.VideoCapture(0)\n",
    "\n",
    "if webcam.isOpened():\n",
    "    validacao, frame = webcam.read()\n",
    "    cv2.imwrite(\"Foto_teste.png\", frame)\n",
    "webcam.release()\n",
    "cv2.destroyAllWindows()"
   ]
  },
  {
   "cell_type": "code",
   "execution_count": null,
   "id": "ae07e00d",
   "metadata": {},
   "outputs": [],
   "source": []
  }
 ],
 "metadata": {
  "kernelspec": {
   "display_name": "Python 3 (ipykernel)",
   "language": "python",
   "name": "python3"
  },
  "language_info": {
   "codemirror_mode": {
    "name": "ipython",
    "version": 3
   },
   "file_extension": ".py",
   "mimetype": "text/x-python",
   "name": "python",
   "nbconvert_exporter": "python",
   "pygments_lexer": "ipython3",
   "version": "3.9.7"
  }
 },
 "nbformat": 4,
 "nbformat_minor": 5
}
