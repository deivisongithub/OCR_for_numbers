{
 "cells": [
  {
   "cell_type": "markdown",
   "id": "1416c16b",
   "metadata": {},
   "source": [
    "# Projeto Guaraves\n",
    "\n",
    "Deivison Rodrigues jordão"
   ]
  },
  {
   "cell_type": "markdown",
   "id": "9188ee35",
   "metadata": {},
   "source": [
    "### Importações"
   ]
  },
  {
   "cell_type": "code",
   "execution_count": 27,
   "id": "8472add1",
   "metadata": {},
   "outputs": [],
   "source": [
    "import pytesseract as ocr\n",
    "from PIL import Image\n",
    "import PIL\n",
    "import pytesseract\n",
    "#import pyautogui"
   ]
  },
  {
   "cell_type": "markdown",
   "id": "6551d2ee",
   "metadata": {},
   "source": [
    "Localização do executavel referente a biblioteca Tesseract"
   ]
  },
  {
   "cell_type": "code",
   "execution_count": 12,
   "id": "0096c0cf",
   "metadata": {},
   "outputs": [],
   "source": [
    "pytesseract.pytesseract.tesseract_cmd=r'C:\\Program Files\\Tesseract-OCR\\tesseract.exe'"
   ]
  },
  {
   "cell_type": "markdown",
   "id": "21f86ad1",
   "metadata": {},
   "source": [
    "### Teste em imagens com bom enquadramento"
   ]
  },
  {
   "cell_type": "code",
   "execution_count": 19,
   "id": "082bffe5",
   "metadata": {},
   "outputs": [
    {
     "name": "stdout",
     "output_type": "stream",
     "text": [
      "Camaratuba Viper Touch y Cy o\n",
      "DIA 168 01.10.2021 11:32 =\n",
      "Temperatura exterior Sensor temp.4 Sensoridehum Estado do tine\n",
      "\n",
      "4 = .\n",
      "4 -99,8°C 71 25,0°C | hes 77 Yo e@ >\n",
      "Sensor temp. 1 Sensor temp. 5 Sensor 2? de hum Pedide da refrigeracdo de tine\n",
      "BT] 5, EE)\n",
      "48 28,2°C Ag 27,4°C fig 88% *% 100% >\n",
      "‘Sensor temp. 2 = e _Temperatura Soe nee Sensor de pressdo Pedide de pressdo estatica\n",
      "2} if =\n",
      "“ff 281°C §|« 100°° A F~ 534Pa Uk 400Pa A\n",
      "Sensor temp. 3 ey ‘Humidade oil Velocid ar 2\n",
      "3 -\n",
      "#4 27,6°C els 85% ' A @ 2,9m/s\n",
      "\n",
      "1/2 y\n",
      "\f",
      "\n"
     ]
    }
   ],
   "source": [
    "print(pytesseract.image_to_string('image01.jpeg',config='--psm 6'))"
   ]
  },
  {
   "cell_type": "markdown",
   "id": "a3166472",
   "metadata": {},
   "source": [
    "Nota-se que há uma grande poluição na leitura dos caracteres que desejamos, uma vez que o algorítimo tenta ler toda imagem"
   ]
  },
  {
   "cell_type": "markdown",
   "id": "40ecea4e",
   "metadata": {},
   "source": [
    "### Teste em imagens sem enquadramento adequando"
   ]
  },
  {
   "cell_type": "code",
   "execution_count": 20,
   "id": "89b95443",
   "metadata": {},
   "outputs": [
    {
     "name": "stdout",
     "output_type": "stream",
     "text": [
      "; j 0» e@ an\n",
      "01.10.2021 _ ee | bf\n",
      "a\n",
      "\f",
      "\n"
     ]
    }
   ],
   "source": [
    "print(pytesseract.image_to_string('image02.jpeg',config='--psm 6'))"
   ]
  },
  {
   "cell_type": "code",
   "execution_count": 21,
   "id": "101259f5",
   "metadata": {},
   "outputs": [
    {
     "name": "stdout",
     "output_type": "stream",
     "text": [
      "Camaratuoa Viper Touch 7 *” @ &\n",
      "BIA ISS 01.10.2024 11:32\n",
      "cp c ey, ia °C, ha 10€\n",
      "Be sc iil i Gol Cx 53,3.Pa P\n",
      "| 27,6 °C i 85 % A ,\n",
      "\f",
      "\n"
     ]
    }
   ],
   "source": [
    "print(pytesseract.image_to_string('image03.jpeg',config='--psm 6'))"
   ]
  },
  {
   "cell_type": "code",
   "execution_count": 22,
   "id": "30128b92",
   "metadata": {},
   "outputs": [
    {
     "name": "stdout",
     "output_type": "stream",
     "text": [
      "i —C—lT—\n",
      "cranes ip Touch ae\n",
      "cial 100°C A 52,8 Pa\n",
      "tit 85 ‘\n",
      "ad\n",
      "Bie f,\n",
      "iG Dutchman\n",
      "ae\n",
      "\f",
      "\n"
     ]
    }
   ],
   "source": [
    "print(pytesseract.image_to_string('image04.jpeg',config='--psm 6'))"
   ]
  },
  {
   "cell_type": "code",
   "execution_count": 23,
   "id": "b02338f9",
   "metadata": {},
   "outputs": [
    {
     "name": "stdout",
     "output_type": "stream",
     "text": [
      "|\n",
      "d al -_—\n",
      "|\n",
      "\f",
      "\n"
     ]
    }
   ],
   "source": [
    "print(pytesseract.image_to_string('image05.jpeg',config='--psm 6'))"
   ]
  }
 ],
 "metadata": {
  "kernelspec": {
   "display_name": "Python 3",
   "language": "python",
   "name": "python3"
  },
  "language_info": {
   "codemirror_mode": {
    "name": "ipython",
    "version": 3
   },
   "file_extension": ".py",
   "mimetype": "text/x-python",
   "name": "python",
   "nbconvert_exporter": "python",
   "pygments_lexer": "ipython3",
   "version": "3.8.8"
  }
 },
 "nbformat": 4,
 "nbformat_minor": 5
}
