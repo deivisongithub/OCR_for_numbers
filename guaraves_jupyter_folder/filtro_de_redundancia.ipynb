{
 "cells": [
  {
   "cell_type": "code",
   "execution_count": 68,
   "id": "05aaf359",
   "metadata": {},
   "outputs": [],
   "source": [
    "import csv"
   ]
  },
  {
   "cell_type": "code",
   "execution_count": 69,
   "id": "200a80e5",
   "metadata": {},
   "outputs": [],
   "source": [
    "with open('Projeto_guaraves.csv', 'r') as dados_csv:\n",
    "    ler = csv.reader(dados_csv)\n",
    "    for linhas_csv in ler:\n",
    "        list_csv = linhas_csv\n",
    "    list_csv = list_csv[3:]\n",
    "        \n",
    "dados_csv.close()"
   ]
  },
  {
   "cell_type": "code",
   "execution_count": 67,
   "id": "2a695cc1",
   "metadata": {},
   "outputs": [
    {
     "data": {
      "text/plain": [
       "\"\\nfor i in range(len(lista_teste)):\\n    if lista_teste[i] != list_csv[i]:\\n        \\n    #Guardando dados no CVS\\n\\n    #cria o arquivo\\n    arquivo_csv = open('Projeto_guaraves.csv', 'a', newline='')\\n\\n    #cria o objeto de gravação\\n    w = csv.writer(arquivo_csv)\\n\\n    #grava linha\\n    w.writerow(line_data_csv)\\n\\n    #fecha o arquivo\\n    arquivo_csv.close()\\n\""
      ]
     },
     "execution_count": 67,
     "metadata": {},
     "output_type": "execute_result"
    }
   ],
   "source": [
    "#lista_teste = line_data_csv[3:]\n",
    "lista_teste = ['-99.8','25.0','77','','28.2','27.1','88','100','28.1','10.0','53.4','40.0','27.6','85','2.9']\n",
    "\n",
    "'''\n",
    "for i in range(len(lista_teste)):\n",
    "    if lista_teste[i] != list_csv[i]:\n",
    "        \n",
    "    #Guardando dados no CVS\n",
    "\n",
    "    #cria o arquivo\n",
    "    arquivo_csv = open('Projeto_guaraves.csv', 'a', newline='')\n",
    "\n",
    "    #cria o objeto de gravação\n",
    "    w = csv.writer(arquivo_csv)\n",
    "\n",
    "    #grava linha\n",
    "    w.writerow(line_data_csv)\n",
    "\n",
    "    #fecha o arquivo\n",
    "    arquivo_csv.close()\n",
    "'''"
   ]
  },
  {
   "cell_type": "code",
   "execution_count": null,
   "id": "e43895ff",
   "metadata": {},
   "outputs": [],
   "source": []
  }
 ],
 "metadata": {
  "kernelspec": {
   "display_name": "Python 3 (ipykernel)",
   "language": "python",
   "name": "python3"
  },
  "language_info": {
   "codemirror_mode": {
    "name": "ipython",
    "version": 3
   },
   "file_extension": ".py",
   "mimetype": "text/x-python",
   "name": "python",
   "nbconvert_exporter": "python",
   "pygments_lexer": "ipython3",
   "version": "3.9.7"
  }
 },
 "nbformat": 4,
 "nbformat_minor": 5
}
