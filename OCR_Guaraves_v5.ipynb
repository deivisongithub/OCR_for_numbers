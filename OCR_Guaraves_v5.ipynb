{
  "nbformat": 4,
  "nbformat_minor": 0,
  "metadata": {
    "colab": {
      "name": "OCR_Guaraves_v5.ipynb",
      "provenance": [],
      "collapsed_sections": [],
      "include_colab_link": true
    },
    "kernelspec": {
      "name": "python3",
      "display_name": "Python 3"
    },
    "language_info": {
      "name": "python"
    }
  },
  "cells": [
    {
      "cell_type": "markdown",
      "metadata": {
        "id": "view-in-github",
        "colab_type": "text"
      },
      "source": [
        "<a href=\"https://colab.research.google.com/github/deivisongithub/OCR_for_numbers/blob/main/OCR_Guaraves_v5.ipynb\" target=\"_parent\"><img src=\"https://colab.research.google.com/assets/colab-badge.svg\" alt=\"Open In Colab\"/></a>"
      ]
    },
    {
      "cell_type": "markdown",
      "metadata": {
        "id": "EuESSk_9dKMa"
      },
      "source": [
        "# Escaneamento de imagem do painel Guaraves (UFPB)"
      ]
    },
    {
      "cell_type": "markdown",
      "metadata": {
        "id": "5xQpLj93WXDJ"
      },
      "source": [
        "# Importando as bibliotecas"
      ]
    },
    {
      "cell_type": "code",
      "metadata": {
        "id": "ZYOaX_yRgFqO"
      },
      "source": [
        "import numpy as np\n",
        "import cv2\n",
        "import imutils\n",
        "from google.colab.patches import cv2_imshow\n",
        "from matplotlib import pyplot as plt\n",
        "import csv"
      ],
      "execution_count": null,
      "outputs": []
    },
    {
      "cell_type": "markdown",
      "metadata": {
        "id": "10Fp9ew0Wcpt"
      },
      "source": [
        "# Capturando tela (deverá ser a partir da camera)\n",
        "\n"
      ]
    },
    {
      "cell_type": "code",
      "metadata": {
        "id": "fp1eh5WYdKTY",
        "colab": {
          "base_uri": "https://localhost:8080/"
        },
        "outputId": "2aa6c9e9-33ce-41c8-cee8-c84b07b18911"
      },
      "source": [
        "!wget https://i.postimg.cc/m2y9Gnzw/guaraves.jpg ./"
      ],
      "execution_count": null,
      "outputs": [
        {
          "output_type": "stream",
          "name": "stdout",
          "text": [
            "--2021-12-28 20:08:16--  https://i.postimg.cc/m2y9Gnzw/guaraves.jpg\n",
            "Resolving i.postimg.cc (i.postimg.cc)... 104.238.220.13\n",
            "Connecting to i.postimg.cc (i.postimg.cc)|104.238.220.13|:443... connected.\n",
            "HTTP request sent, awaiting response... 200 OK\n",
            "Length: 169356 (165K) [image/jpeg]\n",
            "Saving to: ‘guaraves.jpg.4’\n",
            "\n",
            "guaraves.jpg.4      100%[===================>] 165.39K   685KB/s    in 0.2s    \n",
            "\n",
            "2021-12-28 20:08:16 (685 KB/s) - ‘guaraves.jpg.4’ saved [169356/169356]\n",
            "\n",
            "--2021-12-28 20:08:16--  http://./\n",
            "Resolving . (.)... failed: No address associated with hostname.\n",
            "wget: unable to resolve host address ‘.’\n",
            "FINISHED --2021-12-28 20:08:16--\n",
            "Total wall clock time: 0.7s\n",
            "Downloaded: 1 files, 165K in 0.2s (685 KB/s)\n"
          ]
        }
      ]
    },
    {
      "cell_type": "code",
      "metadata": {
        "id": "oEWrEvWegHPx"
      },
      "source": [
        "def mostrar(img):\n",
        "  fig = plt.gcf()\n",
        "  fig.set_size_inches(20, 10)\n",
        "  plt.axis(\"off\")\n",
        "  plt.imshow(cv2.cvtColor(img, cv2.COLOR_BGR2RGB))\n",
        "  plt.show()"
      ],
      "execution_count": null,
      "outputs": []
    },
    {
      "cell_type": "markdown",
      "metadata": {
        "id": "Z-qiSoJwvTEn"
      },
      "source": [
        "# Processamentos na imagem (enquadramento da tela)"
      ]
    },
    {
      "cell_type": "code",
      "source": [
        "img = cv2.imread('guaraves.jpg')\n",
        "#dim = (int(img.shape[0] * 130 / 100),int(img.shape[1] * 130 / 100))\n",
        "#img = cv2.resize(img,dim, interpolation = cv2.INTER_AREA)\n",
        "original = img.copy()\n",
        "#mostrar(img)"
      ],
      "metadata": {
        "id": "TYlOVmHO6Xel"
      },
      "execution_count": null,
      "outputs": []
    },
    {
      "cell_type": "code",
      "metadata": {
        "id": "bfO0KsTv04GU"
      },
      "source": [
        "(H, W) = img.shape[:2]\n",
        "\n",
        "gray = cv2.cvtColor(img, cv2.COLOR_BGR2GRAY)\n",
        "\n",
        "blur = cv2.GaussianBlur(gray, (3, 3), 0)\n",
        "\n",
        "edged = cv2.Canny(blur, 60, 160)\n",
        "\n",
        "#mostrar(edged)"
      ],
      "execution_count": null,
      "outputs": []
    },
    {
      "cell_type": "markdown",
      "metadata": {
        "id": "I8YjWqtvvhhX"
      },
      "source": [
        "# Detecção de contornos na imagem"
      ]
    },
    {
      "cell_type": "code",
      "metadata": {
        "id": "6iNNi6oo3PE6"
      },
      "source": [
        "def encontrar_contornos(img):\n",
        "  conts = cv2.findContours(img, cv2.RETR_LIST, cv2.CHAIN_APPROX_SIMPLE)\n",
        "  conts = imutils.grab_contours(conts)\n",
        "  conts = sorted(conts, key = cv2.contourArea, reverse = True)[:6]\n",
        "  return conts\n",
        "\n",
        "conts = encontrar_contornos(edged.copy())"
      ],
      "execution_count": null,
      "outputs": []
    },
    {
      "cell_type": "markdown",
      "metadata": {
        "id": "ilFZs4Y-vliJ"
      },
      "source": [
        "## Localizando o maior contorno\n",
        "\n"
      ]
    },
    {
      "cell_type": "code",
      "metadata": {
        "id": "LLBpi0hfURRD",
        "colab": {
          "base_uri": "https://localhost:8080/"
        },
        "outputId": "5863cf68-70e8-4d0f-d6f7-9088c724c3d8"
      },
      "source": [
        "for c in conts:\n",
        "  perimetro = cv2.arcLength(c, True)\n",
        "  aproximacao = cv2.approxPolyDP(c, 0.02 * perimetro, True)\n",
        "  if len(aproximacao) == 4:\n",
        "    maior = aproximacao\n",
        "    break\n",
        "\n",
        "cv2.drawContours(img, maior, -1, (120, 255, 0), 28)\n",
        "cv2.drawContours(img, [maior], -1, (120, 255, 0), 2)\n",
        "#mostrar(img)"
      ],
      "execution_count": null,
      "outputs": [
        {
          "output_type": "execute_result",
          "data": {
            "text/plain": [
              "array([[[  9,  15,  10],\n",
              "        [  7,  13,   8],\n",
              "        [  6,  12,   7],\n",
              "        ...,\n",
              "        [ 85,  99,  93],\n",
              "        [ 87, 101,  95],\n",
              "        [ 87, 101,  95]],\n",
              "\n",
              "       [[  9,  15,  10],\n",
              "        [  7,  13,   8],\n",
              "        [  6,  12,   7],\n",
              "        ...,\n",
              "        [ 90, 104,  98],\n",
              "        [ 91, 105,  99],\n",
              "        [ 92, 106, 100]],\n",
              "\n",
              "       [[  9,  15,  10],\n",
              "        [  7,  13,   8],\n",
              "        [  6,  12,   7],\n",
              "        ...,\n",
              "        [ 95, 109, 103],\n",
              "        [ 97, 111, 105],\n",
              "        [ 98, 112, 106]],\n",
              "\n",
              "       ...,\n",
              "\n",
              "       [[  5,   8,   6],\n",
              "        [  5,   8,   6],\n",
              "        [  5,   8,   6],\n",
              "        ...,\n",
              "        [ 23,  19,  14],\n",
              "        [ 23,  19,  14],\n",
              "        [ 24,  20,  15]],\n",
              "\n",
              "       [[  5,   8,   6],\n",
              "        [  5,   8,   6],\n",
              "        [  5,   8,   6],\n",
              "        ...,\n",
              "        [ 22,  18,  13],\n",
              "        [ 23,  19,  14],\n",
              "        [ 23,  19,  14]],\n",
              "\n",
              "       [[  5,   8,   6],\n",
              "        [  5,   8,   6],\n",
              "        [  5,   8,   6],\n",
              "        ...,\n",
              "        [ 22,  18,  13],\n",
              "        [ 22,  18,  13],\n",
              "        [ 22,  18,  13]]], dtype=uint8)"
            ]
          },
          "metadata": {},
          "execution_count": 7
        }
      ]
    },
    {
      "cell_type": "markdown",
      "metadata": {
        "id": "eFk6SjPbPSnx"
      },
      "source": [
        "##Transformação geométrica"
      ]
    },
    {
      "cell_type": "code",
      "metadata": {
        "id": "RsLmJd_lWq7H"
      },
      "source": [
        "def ordenar_pontos(pontos):\n",
        "  pontos = pontos.reshape((4,2))\n",
        "  pontos_novos = np.zeros((4, 1, 2), dtype=np.int32)\n",
        "\n",
        "  add = pontos.sum(1)\n",
        "  pontos_novos[0] = pontos[np.argmin(add)]\n",
        "  pontos_novos[2] = pontos[np.argmax(add)]\n",
        "\n",
        "  dif = np.diff(pontos, axis = 1)\n",
        "  pontos_novos[1] = pontos[np.argmin(dif)]\n",
        "  pontos_novos[3] = pontos[np.argmax(dif)]\n",
        "\n",
        "  return pontos_novos\n",
        "\n",
        "pontos_maior = ordenar_pontos(maior)\n",
        "#print(pontos_maior)"
      ],
      "execution_count": null,
      "outputs": []
    },
    {
      "cell_type": "markdown",
      "metadata": {
        "id": "0MyExwOisnJD"
      },
      "source": [
        "Obtenção da matriz de transformação"
      ]
    },
    {
      "cell_type": "code",
      "metadata": {
        "id": "DtuLNMPucFzT"
      },
      "source": [
        "pts1 = np.float32(pontos_maior)"
      ],
      "execution_count": null,
      "outputs": []
    },
    {
      "cell_type": "code",
      "metadata": {
        "id": "L6X0qVfycdcc"
      },
      "source": [
        "pts2 = np.float32([[0,0], [W, 0], [W, H], [0, H]])"
      ],
      "execution_count": null,
      "outputs": []
    },
    {
      "cell_type": "code",
      "metadata": {
        "id": "TE67us0sdi2U"
      },
      "source": [
        "matriz = cv2.getPerspectiveTransform(pts1, pts2)\n",
        "#matriz"
      ],
      "execution_count": null,
      "outputs": []
    },
    {
      "cell_type": "markdown",
      "metadata": {
        "id": "eZyXRdFJsh1U"
      },
      "source": [
        "Transformação de perspectiva"
      ]
    },
    {
      "cell_type": "code",
      "metadata": {
        "id": "VMtGcY48dvRv"
      },
      "source": [
        "transform = cv2.warpPerspective(original, matriz, (W, H))\n",
        "\n",
        "#mostrar(transform) "
      ],
      "execution_count": null,
      "outputs": []
    },
    {
      "cell_type": "markdown",
      "source": [
        "(função para binarizar a imagem com o opencv)"
      ],
      "metadata": {
        "id": "9mOiKRxIZWOd"
      }
    },
    {
      "cell_type": "code",
      "metadata": {
        "id": "s8bQSu6kmPkp"
      },
      "source": [
        "def preprocessamento(img):\n",
        "  maior = cv2.resize(img, None, fx=3.4, fy=3.4, interpolation=cv2.INTER_CUBIC)\n",
        "  valor, otsu = cv2.threshold(maior, 0, 255, cv2.THRESH_BINARY | cv2.THRESH_OTSU)\n",
        "  return otsu\n",
        "\n"
      ],
      "execution_count": null,
      "outputs": []
    },
    {
      "cell_type": "markdown",
      "metadata": {
        "id": "PLr4zd1iIKCS"
      },
      "source": [
        "#Reconhecimento de caracteres"
      ]
    },
    {
      "cell_type": "code",
      "metadata": {
        "id": "zeV-sDDVQBCk",
        "colab": {
          "base_uri": "https://localhost:8080/"
        },
        "outputId": "4db06d32-cf76-49bc-9627-8897e3bf62e7"
      },
      "source": [
        "!sudo apt install tesseract-ocr\n",
        "!pip install pytesseract \n",
        "import pytesseract"
      ],
      "execution_count": null,
      "outputs": [
        {
          "output_type": "stream",
          "name": "stdout",
          "text": [
            "Reading package lists... Done\n",
            "Building dependency tree       \n",
            "Reading state information... Done\n",
            "tesseract-ocr is already the newest version (4.00~git2288-10f4998a-2).\n",
            "0 upgraded, 0 newly installed, 0 to remove and 37 not upgraded.\n",
            "Requirement already satisfied: pytesseract in /usr/local/lib/python3.7/dist-packages (0.3.8)\n",
            "Requirement already satisfied: Pillow in /usr/local/lib/python3.7/dist-packages (from pytesseract) (7.1.2)\n"
          ]
        }
      ]
    },
    {
      "cell_type": "code",
      "metadata": {
        "id": "ffU8DI6cQHgb",
        "colab": {
          "base_uri": "https://localhost:8080/"
        },
        "outputId": "f9c644d3-e2b0-472a-f619-f8e83380a824"
      },
      "source": [
        "!mkdir tessdata\n",
        "!#wget -O ./tessdata/por.traineddata https://github.com/tesseract-ocr/tessdata/blob/main/por.traineddata?raw=true\n",
        "\n",
        "!wget -O ./tessdata/por.traineddata https://github.com/tesseract-ocr/tessdata/raw/4.00/por.traineddata"
      ],
      "execution_count": null,
      "outputs": [
        {
          "output_type": "stream",
          "name": "stdout",
          "text": [
            "mkdir: cannot create directory ‘tessdata’: File exists\n",
            "--2021-12-28 20:08:27--  https://github.com/tesseract-ocr/tessdata/raw/4.00/por.traineddata\n",
            "Resolving github.com (github.com)... 140.82.114.4\n",
            "Connecting to github.com (github.com)|140.82.114.4|:443... connected.\n",
            "HTTP request sent, awaiting response... 302 Found\n",
            "Location: https://raw.githubusercontent.com/tesseract-ocr/tessdata/4.00/por.traineddata [following]\n",
            "--2021-12-28 20:08:27--  https://raw.githubusercontent.com/tesseract-ocr/tessdata/4.00/por.traineddata\n",
            "Resolving raw.githubusercontent.com (raw.githubusercontent.com)... 185.199.108.133, 185.199.109.133, 185.199.110.133, ...\n",
            "Connecting to raw.githubusercontent.com (raw.githubusercontent.com)|185.199.108.133|:443... connected.\n",
            "HTTP request sent, awaiting response... 200 OK\n",
            "Length: 21457953 (20M) [application/octet-stream]\n",
            "Saving to: ‘./tessdata/por.traineddata’\n",
            "\n",
            "./tessdata/por.trai 100%[===================>]  20.46M  --.-KB/s    in 0.1s    \n",
            "\n",
            "2021-12-28 20:08:28 (151 MB/s) - ‘./tessdata/por.traineddata’ saved [21457953/21457953]\n",
            "\n"
          ]
        }
      ]
    },
    {
      "cell_type": "markdown",
      "source": [
        "###Dectecção Data,Hora,local"
      ],
      "metadata": {
        "id": "FhwVNT6nwxVW"
      }
    },
    {
      "cell_type": "code",
      "source": [
        "#carregando imagem\n",
        "img_data_hora = original.copy()\n",
        "#mostrar(img_data_hora)"
      ],
      "metadata": {
        "id": "TfNN8nV88YTs"
      },
      "execution_count": null,
      "outputs": []
    },
    {
      "cell_type": "code",
      "source": [
        "#modificando pontos\n",
        "pontos_maior[0][0][1] -= pontos_maior[0][0][1] * (30/100)\n",
        "pontos_maior[1][0][1] -= pontos_maior[1][0][1] * (30/100)"
      ],
      "metadata": {
        "id": "f-BkPk3C-zFZ"
      },
      "execution_count": null,
      "outputs": []
    },
    {
      "cell_type": "code",
      "source": [
        "#formando matiz trsformação\n",
        "pts1 = np.float32(pontos_maior)\n",
        "matriz = cv2.getPerspectiveTransform(pts1, pts2)"
      ],
      "metadata": {
        "id": "XZxWS9Bo8R1p"
      },
      "execution_count": null,
      "outputs": []
    },
    {
      "cell_type": "code",
      "source": [
        "#transformando a pespectiva\n",
        "transform_data_hora = cv2.warpPerspective(img_data_hora, matriz, (W, H))\n",
        "\n",
        "#mostrar(transform_data_hora) "
      ],
      "metadata": {
        "id": "CMrEuGuQ-u5s"
      },
      "execution_count": null,
      "outputs": []
    },
    {
      "cell_type": "code",
      "source": [
        "#calculando pata fechar no cabeçario\n",
        "x_data = int (transform_data_hora.shape[1] - (transform_data_hora.shape[1] * (40/100)))\n",
        "y_data = int (transform_data_hora.shape[0] - (transform_data_hora.shape[0] * (85/100)))"
      ],
      "metadata": {
        "id": "xvNmED59pYoC"
      },
      "execution_count": null,
      "outputs": []
    },
    {
      "cell_type": "code",
      "source": [
        "#fechando no cabeçario\n",
        "transform_data_hora = transform_data_hora[:y_data,:x_data]\n",
        "#mostrar(transform_data_hora)"
      ],
      "metadata": {
        "id": "DQ8mWdelpDj2"
      },
      "execution_count": null,
      "outputs": []
    },
    {
      "cell_type": "code",
      "source": [
        "#Localizando as informações\n",
        "\n",
        "#Local\n",
        "x_local = int ((640/640) * transform_data_hora.shape[1])\n",
        "y_local = int ((65/120) * transform_data_hora.shape[0])\n",
        "local = transform_data_hora[:y_local,:x_local]\n",
        "\n",
        "#data e hora\n",
        "x1_data = int ((320/640) * transform_data_hora.shape[1])\n",
        "x2_data = int ((640/640) * transform_data_hora.shape[1])\n",
        "y1_data = int ((60/120) * transform_data_hora.shape[0])\n",
        "y2_data = int ((120/120) * transform_data_hora.shape[0])\n",
        "data_hora = transform_data_hora[y1_data:y2_data,x1_data:x2_data]"
      ],
      "metadata": {
        "id": "5sj2drQVzqUR"
      },
      "execution_count": null,
      "outputs": []
    },
    {
      "cell_type": "code",
      "source": [
        "#leituras de local,data e hora\n",
        "custom_oem = r'-c tessedit_char_whitelist=abcdefghijklmnopqrstuvwxyz --psm 6'\n",
        "leitura_local = pytesseract.image_to_string(local,config=custom_oem)\n",
        "leitura_data_hora = pytesseract.image_to_string(data_hora)"
      ],
      "metadata": {
        "id": "6ksalT6nwkMF"
      },
      "execution_count": null,
      "outputs": []
    },
    {
      "cell_type": "code",
      "source": [
        "#filtrando leituras\n",
        "\n",
        "leitura_local = leitura_local.split(' ',1)\n",
        "leitura_local = leitura_local[0]\n",
        "print(leitura_local)"
      ],
      "metadata": {
        "colab": {
          "base_uri": "https://localhost:8080/"
        },
        "id": "14lXCOpoVHEj",
        "outputId": "d58b61ed-eb60-4c17-bad8-1c6daa478502"
      },
      "execution_count": null,
      "outputs": [
        {
          "output_type": "stream",
          "name": "stdout",
          "text": [
            "Camaratuba\n"
          ]
        }
      ]
    },
    {
      "cell_type": "code",
      "source": [
        "#filtrando leituras\n",
        "\n",
        "leitura_data_filtrada = ''\n",
        "leitura_hora_filtrada = ''\n",
        "\n",
        "#data e hora\n",
        "leitura_data_hora = leitura_data_hora.split(' ',1)\n",
        "\n",
        "#data\n",
        "leitura_data = leitura_data_hora[0]\n",
        "for i in leitura_data:\n",
        "  if i == '.':\n",
        "    leitura_data_filtrada = leitura_data_filtrada + '/'\n",
        "  else:\n",
        "    leitura_data_filtrada = leitura_data_filtrada + i\n",
        "\n",
        "#hora\n",
        "leitura_hora = leitura_data_hora[1]\n",
        "for f in leitura_hora:\n",
        "      if (f.isdigit() == True):\n",
        "        leitura_hora_filtrada = leitura_hora_filtrada + f\n",
        "      elif f == ':':\n",
        "        leitura_hora_filtrada = leitura_hora_filtrada + f\n",
        "\n",
        "#print(leitura_data_filtrada)\n",
        "#print(leitura_hora_filtrada)"
      ],
      "metadata": {
        "id": "ZkISVlPDY6LE"
      },
      "execution_count": null,
      "outputs": []
    },
    {
      "cell_type": "markdown",
      "source": [
        "iniciando lista de caracteres lidos"
      ],
      "metadata": {
        "id": "Ju6LaVvjVLxI"
      }
    },
    {
      "cell_type": "code",
      "source": [
        "line_data_csv = []"
      ],
      "metadata": {
        "id": "v16r6onWw9ZL"
      },
      "execution_count": null,
      "outputs": []
    },
    {
      "cell_type": "code",
      "source": [
        "#adicionando local, data e hora no array do csv\n",
        "\n",
        "line_data_csv.append(leitura_local)\n",
        "line_data_csv.append(leitura_data_filtrada)\n",
        "line_data_csv.append(leitura_hora_filtrada)"
      ],
      "metadata": {
        "id": "89efEvKZciMI"
      },
      "execution_count": null,
      "outputs": []
    },
    {
      "cell_type": "markdown",
      "source": [
        "###Detecção de informações dos blocos"
      ],
      "metadata": {
        "id": "c1MNV6GTwlED"
      }
    },
    {
      "cell_type": "code",
      "metadata": {
        "id": "ZO8YM_xs1TZK"
      },
      "source": [
        "x1 = int((85/1067) * transform.shape[1])\n",
        "x1_add = int((260/1067) * transform.shape[1])\n",
        "\n",
        "x2 = int((230/1067) * transform.shape[1])\n",
        "x2_add = int((250/1067) * transform.shape[1])\n",
        "\n",
        "y1 = int((110/800) * transform.shape[0])\n",
        "y1_add = int((150/800) * transform.shape[0])\n",
        "\n",
        "y2 = int((160/800) * transform.shape[0])\n",
        "y2_add = int((160/800) * transform.shape[0])\n",
        "\n",
        "for i in range(4):\n",
        "  x1 = int((85/1067) * transform.shape[1])\n",
        "  x2 = int((230/1067) * transform.shape[1])\n",
        "  if i > 0:\n",
        "    y1 = y1 + y1_add\n",
        "    y2 = y2 + y2_add\n",
        "  \n",
        "  for j in range(4):\n",
        "    #if i == 0 and j == 3:\n",
        "     # break\n",
        "    if i == 3 and j == 3:\n",
        "      break\n",
        "    if j > 0:\n",
        "      x1 = x1 + x1_add\n",
        "      x2 = x2 + x2_add\n",
        "\n",
        "    janela=transform[y1:y2, x1:x2]\n",
        "\n",
        "    janelaBW=cv2.cvtColor(janela, cv2.COLOR_BGR2GRAY)\n",
        "    janelaBW = np.around((janelaBW-48)*1.4)\n",
        "    janelaBW = janelaBW.astype(np.uint8)\n",
        "\n",
        "    janela_processada = preprocessamento(janelaBW)\n",
        "\n",
        "    #mostrar(janela_processada)\n",
        "\n",
        "    leitura = pytesseract.image_to_string(janela_processada)\n",
        "\n",
        "    #print(leitura)\n",
        "\n",
        "    #filtro de caracteres\n",
        "    leitura_filtrada = ''\n",
        "\n",
        "    for f in leitura:\n",
        "      if (f.isdigit() == True):\n",
        "        leitura_filtrada = leitura_filtrada + f\n",
        "      elif f == '-':\n",
        "        leitura_filtrada = leitura_filtrada + f\n",
        "      elif f == ',':\n",
        "        leitura_filtrada = leitura_filtrada + '.'\n",
        "      elif f == ' ':\n",
        "        pass\n",
        "      elif f == '\\n':\n",
        "        pass\n",
        "      else:\n",
        "        break\n",
        "    line_data_csv.append(leitura_filtrada)\n",
        "\n",
        "#print(line_data_csv)"
      ],
      "execution_count": null,
      "outputs": []
    },
    {
      "cell_type": "markdown",
      "source": [
        "###Guardando dados no CVS"
      ],
      "metadata": {
        "id": "c_PhLTgm9iDI"
      }
    },
    {
      "cell_type": "code",
      "metadata": {
        "id": "ld8Mpky5JNGa"
      },
      "source": [
        "#cria o arquivo\n",
        "arquivo_csv = open('Projeto_guaraves.csv', 'a', newline='')\n",
        "\n",
        "#cria o objeto de gravação\n",
        "w = csv.writer(arquivo_csv)\n",
        "\n",
        "#grava linha\n",
        "w.writerow(line_data_csv)\n",
        "\n",
        "#fecha o arquivo\n",
        "arquivo_csv.close()"
      ],
      "execution_count": null,
      "outputs": []
    },
    {
      "cell_type": "markdown",
      "source": [
        "Acessando o CSV"
      ],
      "metadata": {
        "id": "GxCNKahoTa3q"
      }
    },
    {
      "cell_type": "code",
      "source": [
        "import pandas as pd"
      ],
      "metadata": {
        "id": "p0EHRsPqTacs"
      },
      "execution_count": null,
      "outputs": []
    },
    {
      "cell_type": "code",
      "source": [
        "dados = pd.read_csv('Projeto_guaraves.csv')\n",
        "dados"
      ],
      "metadata": {
        "colab": {
          "base_uri": "https://localhost:8080/",
          "height": 371
        },
        "id": "dq3U9exNThfB",
        "outputId": "25710543-2e7a-44a1-ff1e-6a1877ee64c8"
      },
      "execution_count": null,
      "outputs": [
        {
          "output_type": "execute_result",
          "data": {
            "text/html": [
              "\n",
              "  <div id=\"df-3f475f50-910c-40e5-93c8-fcf0ba9d4573\">\n",
              "    <div class=\"colab-df-container\">\n",
              "      <div>\n",
              "<style scoped>\n",
              "    .dataframe tbody tr th:only-of-type {\n",
              "        vertical-align: middle;\n",
              "    }\n",
              "\n",
              "    .dataframe tbody tr th {\n",
              "        vertical-align: top;\n",
              "    }\n",
              "\n",
              "    .dataframe thead th {\n",
              "        text-align: right;\n",
              "    }\n",
              "</style>\n",
              "<table border=\"1\" class=\"dataframe\">\n",
              "  <thead>\n",
              "    <tr style=\"text-align: right;\">\n",
              "      <th></th>\n",
              "      <th>Local</th>\n",
              "      <th>Data</th>\n",
              "      <th>Horário</th>\n",
              "      <th>Temperatura do exterior(°C)</th>\n",
              "      <th>Sensor de temperatura 4(°C)</th>\n",
              "      <th>Sensor 1 de humidade (%)</th>\n",
              "      <th>Estado do túnel</th>\n",
              "      <th>Sensor de temperatura 1 (°C)</th>\n",
              "      <th>Sensor de temperatura 5 (°C)</th>\n",
              "      <th>Sensor 2 de humidade (%)</th>\n",
              "      <th>Pedido da refrigeração do túnel (%)</th>\n",
              "      <th>Sensor de temperatura 2 (°C)</th>\n",
              "      <th>Temperatura (°C)</th>\n",
              "      <th>Sensor de pressão (Pa)</th>\n",
              "      <th>Pedido de pressão estática (Pa)</th>\n",
              "      <th>Sensor de temperatura 3 (°C)</th>\n",
              "      <th>Humidade (%)</th>\n",
              "      <th>Velocidade do ar (m/s)</th>\n",
              "    </tr>\n",
              "  </thead>\n",
              "  <tbody>\n",
              "    <tr>\n",
              "      <th>0</th>\n",
              "      <td>Camaratuba</td>\n",
              "      <td>01/10/2021</td>\n",
              "      <td>11:32</td>\n",
              "      <td>-99.8</td>\n",
              "      <td>25.0</td>\n",
              "      <td>77</td>\n",
              "      <td>NaN</td>\n",
              "      <td>28.2</td>\n",
              "      <td>27.1</td>\n",
              "      <td>88</td>\n",
              "      <td>100</td>\n",
              "      <td>28.1</td>\n",
              "      <td>10.0</td>\n",
              "      <td>53.4</td>\n",
              "      <td>40.0</td>\n",
              "      <td>27.6</td>\n",
              "      <td>85</td>\n",
              "      <td>2.9</td>\n",
              "    </tr>\n",
              "    <tr>\n",
              "      <th>1</th>\n",
              "      <td>Camaratuba</td>\n",
              "      <td>01/10/2021</td>\n",
              "      <td>11:32</td>\n",
              "      <td>-99.8</td>\n",
              "      <td>25.0</td>\n",
              "      <td>77</td>\n",
              "      <td>NaN</td>\n",
              "      <td>28.2</td>\n",
              "      <td>27.1</td>\n",
              "      <td>88</td>\n",
              "      <td>100</td>\n",
              "      <td>28.1</td>\n",
              "      <td>10.0</td>\n",
              "      <td>53.4</td>\n",
              "      <td>40.0</td>\n",
              "      <td>27.6</td>\n",
              "      <td>85</td>\n",
              "      <td>2.9</td>\n",
              "    </tr>\n",
              "    <tr>\n",
              "      <th>2</th>\n",
              "      <td>Camaratuba</td>\n",
              "      <td>01/10/2021</td>\n",
              "      <td>11:32</td>\n",
              "      <td>-99.8</td>\n",
              "      <td>25.0</td>\n",
              "      <td>77</td>\n",
              "      <td>NaN</td>\n",
              "      <td>28.2</td>\n",
              "      <td>27.1</td>\n",
              "      <td>88</td>\n",
              "      <td>100</td>\n",
              "      <td>28.1</td>\n",
              "      <td>10.0</td>\n",
              "      <td>53.4</td>\n",
              "      <td>40.0</td>\n",
              "      <td>27.6</td>\n",
              "      <td>85</td>\n",
              "      <td>2.9</td>\n",
              "    </tr>\n",
              "    <tr>\n",
              "      <th>3</th>\n",
              "      <td>Camaratuba</td>\n",
              "      <td>01/10/2021</td>\n",
              "      <td>11:32</td>\n",
              "      <td>-99.8</td>\n",
              "      <td>25.0</td>\n",
              "      <td>77</td>\n",
              "      <td>NaN</td>\n",
              "      <td>28.2</td>\n",
              "      <td>27.1</td>\n",
              "      <td>88</td>\n",
              "      <td>100</td>\n",
              "      <td>28.1</td>\n",
              "      <td>10.0</td>\n",
              "      <td>53.4</td>\n",
              "      <td>40.0</td>\n",
              "      <td>27.6</td>\n",
              "      <td>85</td>\n",
              "      <td>2.9</td>\n",
              "    </tr>\n",
              "    <tr>\n",
              "      <th>4</th>\n",
              "      <td>Camaratuba</td>\n",
              "      <td>01/10/2021</td>\n",
              "      <td>11:32</td>\n",
              "      <td>-99.8</td>\n",
              "      <td>25.0</td>\n",
              "      <td>77</td>\n",
              "      <td>NaN</td>\n",
              "      <td>28.2</td>\n",
              "      <td>27.1</td>\n",
              "      <td>88</td>\n",
              "      <td>100</td>\n",
              "      <td>28.1</td>\n",
              "      <td>10.0</td>\n",
              "      <td>53.4</td>\n",
              "      <td>40.0</td>\n",
              "      <td>27.6</td>\n",
              "      <td>85</td>\n",
              "      <td>2.9</td>\n",
              "    </tr>\n",
              "    <tr>\n",
              "      <th>5</th>\n",
              "      <td>Camaratuba</td>\n",
              "      <td>01/10/2021</td>\n",
              "      <td>11:32</td>\n",
              "      <td>-99.8</td>\n",
              "      <td>25.0</td>\n",
              "      <td>77</td>\n",
              "      <td>NaN</td>\n",
              "      <td>28.2</td>\n",
              "      <td>27.1</td>\n",
              "      <td>88</td>\n",
              "      <td>100</td>\n",
              "      <td>28.1</td>\n",
              "      <td>10.0</td>\n",
              "      <td>53.4</td>\n",
              "      <td>40.0</td>\n",
              "      <td>27.6</td>\n",
              "      <td>85</td>\n",
              "      <td>2.9</td>\n",
              "    </tr>\n",
              "  </tbody>\n",
              "</table>\n",
              "</div>\n",
              "      <button class=\"colab-df-convert\" onclick=\"convertToInteractive('df-3f475f50-910c-40e5-93c8-fcf0ba9d4573')\"\n",
              "              title=\"Convert this dataframe to an interactive table.\"\n",
              "              style=\"display:none;\">\n",
              "        \n",
              "  <svg xmlns=\"http://www.w3.org/2000/svg\" height=\"24px\"viewBox=\"0 0 24 24\"\n",
              "       width=\"24px\">\n",
              "    <path d=\"M0 0h24v24H0V0z\" fill=\"none\"/>\n",
              "    <path d=\"M18.56 5.44l.94 2.06.94-2.06 2.06-.94-2.06-.94-.94-2.06-.94 2.06-2.06.94zm-11 1L8.5 8.5l.94-2.06 2.06-.94-2.06-.94L8.5 2.5l-.94 2.06-2.06.94zm10 10l.94 2.06.94-2.06 2.06-.94-2.06-.94-.94-2.06-.94 2.06-2.06.94z\"/><path d=\"M17.41 7.96l-1.37-1.37c-.4-.4-.92-.59-1.43-.59-.52 0-1.04.2-1.43.59L10.3 9.45l-7.72 7.72c-.78.78-.78 2.05 0 2.83L4 21.41c.39.39.9.59 1.41.59.51 0 1.02-.2 1.41-.59l7.78-7.78 2.81-2.81c.8-.78.8-2.07 0-2.86zM5.41 20L4 18.59l7.72-7.72 1.47 1.35L5.41 20z\"/>\n",
              "  </svg>\n",
              "      </button>\n",
              "      \n",
              "  <style>\n",
              "    .colab-df-container {\n",
              "      display:flex;\n",
              "      flex-wrap:wrap;\n",
              "      gap: 12px;\n",
              "    }\n",
              "\n",
              "    .colab-df-convert {\n",
              "      background-color: #E8F0FE;\n",
              "      border: none;\n",
              "      border-radius: 50%;\n",
              "      cursor: pointer;\n",
              "      display: none;\n",
              "      fill: #1967D2;\n",
              "      height: 32px;\n",
              "      padding: 0 0 0 0;\n",
              "      width: 32px;\n",
              "    }\n",
              "\n",
              "    .colab-df-convert:hover {\n",
              "      background-color: #E2EBFA;\n",
              "      box-shadow: 0px 1px 2px rgba(60, 64, 67, 0.3), 0px 1px 3px 1px rgba(60, 64, 67, 0.15);\n",
              "      fill: #174EA6;\n",
              "    }\n",
              "\n",
              "    [theme=dark] .colab-df-convert {\n",
              "      background-color: #3B4455;\n",
              "      fill: #D2E3FC;\n",
              "    }\n",
              "\n",
              "    [theme=dark] .colab-df-convert:hover {\n",
              "      background-color: #434B5C;\n",
              "      box-shadow: 0px 1px 3px 1px rgba(0, 0, 0, 0.15);\n",
              "      filter: drop-shadow(0px 1px 2px rgba(0, 0, 0, 0.3));\n",
              "      fill: #FFFFFF;\n",
              "    }\n",
              "  </style>\n",
              "\n",
              "      <script>\n",
              "        const buttonEl =\n",
              "          document.querySelector('#df-3f475f50-910c-40e5-93c8-fcf0ba9d4573 button.colab-df-convert');\n",
              "        buttonEl.style.display =\n",
              "          google.colab.kernel.accessAllowed ? 'block' : 'none';\n",
              "\n",
              "        async function convertToInteractive(key) {\n",
              "          const element = document.querySelector('#df-3f475f50-910c-40e5-93c8-fcf0ba9d4573');\n",
              "          const dataTable =\n",
              "            await google.colab.kernel.invokeFunction('convertToInteractive',\n",
              "                                                     [key], {});\n",
              "          if (!dataTable) return;\n",
              "\n",
              "          const docLinkHtml = 'Like what you see? Visit the ' +\n",
              "            '<a target=\"_blank\" href=https://colab.research.google.com/notebooks/data_table.ipynb>data table notebook</a>'\n",
              "            + ' to learn more about interactive tables.';\n",
              "          element.innerHTML = '';\n",
              "          dataTable['output_type'] = 'display_data';\n",
              "          await google.colab.output.renderOutput(dataTable, element);\n",
              "          const docLink = document.createElement('div');\n",
              "          docLink.innerHTML = docLinkHtml;\n",
              "          element.appendChild(docLink);\n",
              "        }\n",
              "      </script>\n",
              "    </div>\n",
              "  </div>\n",
              "  "
            ],
            "text/plain": [
              "        Local        Data  ... Humidade (%)  Velocidade do ar (m/s)\n",
              "0  Camaratuba  01/10/2021  ...           85                     2.9\n",
              "1  Camaratuba  01/10/2021  ...           85                     2.9\n",
              "2  Camaratuba  01/10/2021  ...           85                     2.9\n",
              "3  Camaratuba  01/10/2021  ...           85                     2.9\n",
              "4  Camaratuba  01/10/2021  ...           85                     2.9\n",
              "5  Camaratuba  01/10/2021  ...           85                     2.9\n",
              "\n",
              "[6 rows x 18 columns]"
            ]
          },
          "metadata": {},
          "execution_count": 31
        }
      ]
    }
  ]
}